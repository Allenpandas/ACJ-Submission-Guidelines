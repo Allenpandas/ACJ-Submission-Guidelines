{
 "cells": [
  {
   "cell_type": "code",
   "execution_count": 1,
   "metadata": {},
   "outputs": [],
   "source": [
    "import torch\n",
    "import torch.nn as nn\n",
    "import torchvision\n",
    "import torch.nn.functional as F\n",
    "from torchvision.datasets import ImageFolder\n",
    "import torch.utils.data as Data\n",
    "import torchvision.transforms as transforms\n",
    "import time # 导入模块\n",
    "import numpy as np"
   ]
  },
  {
   "cell_type": "code",
   "execution_count": 2,
   "metadata": {},
   "outputs": [],
   "source": [
    "class ResidualBlock(nn.Module):\n",
    "    def __init__(self, inchannel, outchannel, stride = 1):\n",
    "        super(ResidualBlock, self).__init__()\n",
    "        self.left = nn.Sequential(\n",
    "            nn.Conv2d(inchannel, outchannel, kernel_size=3, stride=stride, padding=1, bias=False),\n",
    "            nn.BatchNorm2d(outchannel),\n",
    "            nn.ReLU(inplace=True),\n",
    "            nn.Conv2d(outchannel, outchannel, kernel_size=3, stride=1, padding=1, bias=False),\n",
    "            nn.BatchNorm2d(outchannel)\n",
    "        )\n",
    "        self.shortcut =  nn.Sequential()\n",
    "        if stride != 1 or inchannel != outchannel:\n",
    "            self.shortcut = nn.Sequential(\n",
    "                nn.Conv2d(inchannel, outchannel, kernel_size=1, stride=stride, bias=False),\n",
    "                nn.BatchNorm2d(outchannel)\n",
    "            )\n",
    "\n",
    "    def forward(self,x):\n",
    "        out = self.left(x)\n",
    "        out += self.shortcut(x)\n",
    "        out = F.relu(out)\n",
    "        return out"
   ]
  },
  {
   "cell_type": "code",
   "execution_count": 3,
   "metadata": {},
   "outputs": [],
   "source": [
    "class squeeze(nn.Module):\n",
    "    def __init__(self):\n",
    "        super(squeeze, self).__init__()\n",
    "    def forward(self,x):\n",
    "        out = x.squeeze()  # squeeze 去除所有item数量为1的维度\n",
    "        return out"
   ]
  },
  {
   "cell_type": "code",
   "execution_count": 4,
   "metadata": {},
   "outputs": [],
   "source": [
    "ResNet = nn.Sequential(\n",
    "    nn.Conv2d(3, 64,kernel_size=3, stride=1, padding=1, bias=False),\n",
    "    ResidualBlock(64,64, stride=1),\n",
    "    ResidualBlock(64,64, stride=1),\n",
    "    ResidualBlock(64,128, stride=2),\n",
    "    ResidualBlock(128,128, stride=1),\n",
    "    ResidualBlock(128,256, stride=2),\n",
    "    ResidualBlock(256,256, stride=1),\n",
    "    ResidualBlock(256,512, stride=2),\n",
    "    ResidualBlock(512,512, stride=1),\n",
    "    nn.AvgPool2d(kernel_size=5),\n",
    "    squeeze(),  # squeeze 去除所有item数量为1的维度\n",
    "    nn.Linear(in_features=512,out_features=3)\n",
    ")"
   ]
  },
  {
   "cell_type": "code",
   "execution_count": 5,
   "metadata": {},
   "outputs": [],
   "source": [
    "def train_epoch(net, data_loader, device):\n",
    "    net.train()\n",
    "    train_batch_num = len(data_loader)\n",
    "    total_loss = 0\n",
    "    correct = 0\n",
    "    sample_num = 0\n",
    "\n",
    "    for batch_idx, (data, target) in enumerate(data_loader):\n",
    "        # print(data)\n",
    "        # print(target)\n",
    "        data = data.to(device).float()\n",
    "        target = target.to(device).long()\n",
    "        optimizer.zero_grad()\n",
    "        output = net(data)\n",
    "#         print(\"output\", output.shape)\n",
    "        loss = criterion(output, target)\n",
    "        loss.backward()\n",
    "        optimizer.step()\n",
    "        total_loss += loss.item()\n",
    "        prediction = torch.argmax(output, 1)\n",
    "#         print(\"output\", output)\n",
    "#         print(\"prediction\", prediction)\n",
    "#         print(\"target\", target)\n",
    "        correct += (prediction == target).sum().item()\n",
    "        sample_num += len(prediction)\n",
    "    loss = total_loss / train_batch_num\n",
    "    acc = correct / sample_num\n",
    "    return loss, acc\n",
    "\n",
    "def test_epoch(net, data_loader, device):\n",
    "    net.eval()\n",
    "    test_batch_num = len(data_loader)\n",
    "    total_loss = 0\n",
    "    correct = 0\n",
    "    sample_num = 0\n",
    "    with torch.no_grad():\n",
    "        for batch_idx, (data, target) in enumerate(data_loader):\n",
    "            data = data.to(device).float()\n",
    "            target = target.to(device).long()\n",
    "            output = net(data)\n",
    "            loss = criterion(output, target)\n",
    "            total_loss += loss.item()\n",
    "            prediction = torch.argmax(output, 1)\n",
    "            correct += (prediction == target).sum().item()\n",
    "            sample_num += len(prediction)\n",
    "    loss = total_loss / test_batch_num\n",
    "    acc = correct / sample_num\n",
    "    return loss, acc"
   ]
  },
  {
   "cell_type": "code",
   "execution_count": 6,
   "metadata": {},
   "outputs": [
    {
     "name": "stdout",
     "output_type": "stream",
     "text": [
      "962\n",
      "340\n",
      "torch.Size([3, 64, 64])\n",
      "{'bus': 0, 'car': 1, 'truck': 2}\n",
      "torch.Size([3, 64, 64])\n",
      "{'bus': 0, 'car': 1, 'truck': 2}\n"
     ]
    }
   ],
   "source": [
    "data_transform = transforms.Compose([\n",
    "    transforms.Resize((64,64)),\n",
    "    transforms.ToTensor(),\n",
    "    transforms.Normalize(mean=[0.5,0.5,0.5], std=[0.5, 0.5, 0.5])\n",
    "])\n",
    "BATCH_SIZE = 128\n",
    "train_dataset = ImageFolder(\"vehicle_dataset_new/training_dataset\",transform = data_transform)\n",
    "train_loader = Data.DataLoader(dataset=train_dataset, batch_size=BATCH_SIZE, shuffle=True)\n",
    "\n",
    "test_dataset = ImageFolder(\"vehicle_dataset_new/test_dataset\",transform = data_transform)\n",
    "test_loader = Data.DataLoader(dataset=test_dataset, batch_size=BATCH_SIZE, shuffle=True)\n",
    "print(len(train_dataset))\n",
    "print(len(test_dataset))\n",
    "print(train_dataset[0][0].size())\n",
    "print(train_dataset.class_to_idx)\n",
    "print(test_dataset[0][0].size())\n",
    "print(test_dataset.class_to_idx)"
   ]
  },
  {
   "cell_type": "code",
   "execution_count": 7,
   "metadata": {},
   "outputs": [
    {
     "name": "stdout",
     "output_type": "stream",
     "text": [
      "开始训练------0-------------\n",
      "epoch:0\t train_loss:1.2872 \ttrain_acc: 0.5904 \ttest_loss: 2.6954 \t test_acc: 0.1618 \t training_time: 71.59\n",
      "开始训练------1-------------\n",
      "epoch:1\t train_loss:0.5404 \ttrain_acc: 0.7973 \ttest_loss: 7.5591 \t test_acc: 0.3088 \t training_time: 68.98\n",
      "开始训练------2-------------\n",
      "epoch:2\t train_loss:0.4376 \ttrain_acc: 0.8378 \ttest_loss: 2.4373 \t test_acc: 0.4824 \t training_time: 69.02\n",
      "开始训练------3-------------\n",
      "epoch:3\t train_loss:0.3713 \ttrain_acc: 0.8472 \ttest_loss: 0.4745 \t test_acc: 0.8353 \t training_time: 68.74\n",
      "开始训练------4-------------\n",
      "epoch:4\t train_loss:0.3411 \ttrain_acc: 0.8701 \ttest_loss: 0.4987 \t test_acc: 0.8176 \t training_time: 69.28\n",
      "开始训练------5-------------\n",
      "epoch:5\t train_loss:0.3054 \ttrain_acc: 0.8742 \ttest_loss: 0.4104 \t test_acc: 0.8412 \t training_time: 69.78\n",
      "开始训练------6-------------\n",
      "epoch:6\t train_loss:0.2939 \ttrain_acc: 0.8909 \ttest_loss: 0.7872 \t test_acc: 0.7706 \t training_time: 69.40\n",
      "开始训练------7-------------\n",
      "epoch:7\t train_loss:0.2677 \ttrain_acc: 0.9033 \ttest_loss: 0.4660 \t test_acc: 0.8353 \t training_time: 69.63\n",
      "开始训练------8-------------\n",
      "epoch:8\t train_loss:0.2442 \ttrain_acc: 0.9096 \ttest_loss: 0.4707 \t test_acc: 0.8353 \t training_time: 69.61\n",
      "开始训练------9-------------\n",
      "epoch:9\t train_loss:0.2436 \ttrain_acc: 0.9085 \ttest_loss: 0.3980 \t test_acc: 0.8265 \t training_time: 68.96\n",
      "开始训练------10-------------\n",
      "epoch:10\t train_loss:0.2708 \ttrain_acc: 0.8960 \ttest_loss: 0.4398 \t test_acc: 0.8471 \t training_time: 69.35\n",
      "开始训练------11-------------\n",
      "epoch:11\t train_loss:0.2795 \ttrain_acc: 0.8960 \ttest_loss: 0.6494 \t test_acc: 0.7941 \t training_time: 69.21\n",
      "开始训练------12-------------\n",
      "epoch:12\t train_loss:0.2521 \ttrain_acc: 0.9064 \ttest_loss: 0.7190 \t test_acc: 0.7794 \t training_time: 69.33\n",
      "开始训练------13-------------\n",
      "epoch:13\t train_loss:0.2171 \ttrain_acc: 0.9220 \ttest_loss: 0.4424 \t test_acc: 0.8588 \t training_time: 69.12\n",
      "开始训练------14-------------\n",
      "epoch:14\t train_loss:0.1760 \ttrain_acc: 0.9459 \ttest_loss: 0.3358 \t test_acc: 0.8735 \t training_time: 69.20\n",
      "开始训练------15-------------\n",
      "epoch:15\t train_loss:0.1733 \ttrain_acc: 0.9387 \ttest_loss: 0.3751 \t test_acc: 0.8529 \t training_time: 69.08\n",
      "开始训练------16-------------\n",
      "epoch:16\t train_loss:0.1842 \ttrain_acc: 0.9304 \ttest_loss: 0.4391 \t test_acc: 0.8412 \t training_time: 68.66\n",
      "开始训练------17-------------\n",
      "epoch:17\t train_loss:0.1676 \ttrain_acc: 0.9376 \ttest_loss: 0.3080 \t test_acc: 0.9000 \t training_time: 69.24\n",
      "开始训练------18-------------\n",
      "epoch:18\t train_loss:0.1365 \ttrain_acc: 0.9543 \ttest_loss: 0.4351 \t test_acc: 0.8647 \t training_time: 69.19\n",
      "开始训练------19-------------\n",
      "epoch:19\t train_loss:0.1441 \ttrain_acc: 0.9470 \ttest_loss: 0.6961 \t test_acc: 0.8471 \t training_time: 69.10\n"
     ]
    }
   ],
   "source": [
    "num_classes = 3\n",
    "epochs = 20\n",
    "lr = 0.001\n",
    "device = torch.device('cpu')\n",
    "# device = torch.device('cuda')\n",
    "\n",
    "criterion = nn.CrossEntropyLoss()\n",
    "optimizer = torch.optim.Adam(ResNet.parameters(), lr = lr)\n",
    "\n",
    "train_loss_list = []\n",
    "train_acc_list = []\n",
    "test_loss_list = []\n",
    "test_acc_list = []\n",
    "training_time_list = []\n",
    "for epoch in range(epochs):\n",
    "    print(\"开始训练------\" + str(epoch) + \"-------------\")\n",
    "\n",
    "    start = time.time()  #开始时间\n",
    "    train_loss, train_acc = train_epoch(ResNet, data_loader=train_loader, device=device)\n",
    "    end = time.time()  #结束时间\n",
    "    test_loss, test_acc = 0, 0\n",
    "    test_loss, test_acc  = test_epoch(ResNet, data_loader=test_loader, device=device)\n",
    "    train_loss_list.append(train_loss)\n",
    "    train_acc_list.append(train_acc)\n",
    "    test_loss_list.append(test_loss)\n",
    "    test_acc_list.append(test_acc)\n",
    "    training_time_list.append(end - start)\n",
    "    print(f\"epoch:{epoch}\\t train_loss:{train_loss:.4f} \\t\"\n",
    "          f\"train_acc: {train_acc:.4f} \\t\"\n",
    "          f\"test_loss: {test_loss:.4f} \\t test_acc: {test_acc:.4f} \\t training_time: {end-start:.2f}\")"
   ]
  },
  {
   "cell_type": "code",
   "execution_count": 8,
   "metadata": {},
   "outputs": [
    {
     "name": "stdout",
     "output_type": "stream",
     "text": [
      "开始训练------0-------------\n",
      "epoch:0\t train_loss:0.1445 \ttrain_acc: 0.9459 \ttest_loss: 0.3705 \t test_acc: 0.8706 \t training_time: 68.94\n",
      "开始训练------1-------------\n",
      "epoch:1\t train_loss:0.1207 \ttrain_acc: 0.9626 \ttest_loss: 0.3298 \t test_acc: 0.8882 \t training_time: 68.99\n",
      "开始训练------2-------------\n",
      "epoch:3\t train_loss:0.1067 \ttrain_acc: 0.9563 \ttest_loss: 0.3411 \t test_acc: 0.8853 \t training_time: 68.97\n",
      "开始训练------4-------------\n",
      "epoch:4\t train_loss:0.0952 \ttrain_acc: 0.9605 \ttest_loss: 0.3620 \t test_acc: 0.8765 \t training_time: 68.97\n",
      "开始训练------5-------------\n",
      "epoch:5\t train_loss:0.0651 \ttrain_acc: 0.9719 \ttest_loss: 0.3217 \t test_acc: 0.8941 \t training_time: 69.01\n",
      "开始训练------6-------------\n",
      "epoch:6\t train_loss:0.0569 \ttrain_acc: 0.9823 \ttest_loss: 0.4308 \t test_acc: 0.8676 \t training_time: 69.24\n",
      "开始训练------7-------------\n",
      "epoch:7\t train_loss:0.0530 \ttrain_acc: 0.9792 \ttest_loss: 0.3102 \t test_acc: 0.9118 \t training_time: 69.04\n",
      "开始训练------8-------------\n",
      "epoch:8\t train_loss:0.0873 \ttrain_acc: 0.9657 \ttest_loss: 0.4231 \t test_acc: 0.8824 \t training_time: 69.44\n",
      "开始训练------9-------------\n",
      "epoch:9\t train_loss:0.0646 \ttrain_acc: 0.9761 \ttest_loss: 0.4426 \t test_acc: 0.8735 \t training_time: 69.72\n",
      "开始训练------10-------------\n",
      "epoch:10\t train_loss:0.1487 \ttrain_acc: 0.9491 \ttest_loss: 1.9990 \t test_acc: 0.7735 \t training_time: 69.23\n",
      "开始训练------11-------------\n",
      "epoch:11\t train_loss:0.1371 \ttrain_acc: 0.9501 \ttest_loss: 0.4978 \t test_acc: 0.8588 \t training_time: 68.38\n",
      "开始训练------12-------------\n",
      "epoch:12\t train_loss:0.1026 \ttrain_acc: 0.9595 \ttest_loss: 0.3394 \t test_acc: 0.8735 \t training_time: 69.12\n",
      "开始训练------13-------------\n",
      "epoch:15\t train_loss:0.0263 \ttrain_acc: 0.9906 \ttest_loss: 0.3759 \t test_acc: 0.8853 \t training_time: 69.08\n",
      "开始训练------16-------------\n",
      "epoch:16\t train_loss:0.0387 \ttrain_acc: 0.9875 \ttest_loss: 0.4283 \t test_acc: 0.8941 \t training_time: 69.64\n",
      "开始训练------17-------------\n",
      "epoch:17\t train_loss:0.0291 \ttrain_acc: 0.9896 \ttest_loss: 0.3036 \t test_acc: 0.9088 \t training_time: 69.24\n",
      "开始训练------18-------------\n",
      "epoch:18\t train_loss:0.0305 \ttrain_acc: 0.9886 \ttest_loss: 0.3601 \t test_acc: 0.8971 \t training_time: 68.88\n",
      "开始训练------19-------------\n",
      "epoch:19\t train_loss:0.0251 \ttrain_acc: 0.9917 \ttest_loss: 0.2904 \t test_acc: 0.9147 \t training_time: 69.16\n"
     ]
    }
   ],
   "source": [
    "for epoch in range(epochs):\n",
    "    print(\"开始训练------\" + str(epoch) + \"-------------\")\n",
    "\n",
    "    start = time.time()  #开始时间\n",
    "    train_loss, train_acc = train_epoch(ResNet, data_loader=train_loader, device=device)\n",
    "    end = time.time()  #结束时间\n",
    "    test_loss, test_acc = 0, 0\n",
    "    test_loss, test_acc  = test_epoch(ResNet, data_loader=test_loader, device=device)\n",
    "    train_loss_list.append(train_loss)\n",
    "    train_acc_list.append(train_acc)\n",
    "    test_loss_list.append(test_loss)\n",
    "    test_acc_list.append(test_acc)\n",
    "    training_time_list.append(end - start)\n",
    "    print(f\"epoch:{epoch}\\t train_loss:{train_loss:.4f} \\t\"\n",
    "          f\"train_acc: {train_acc:.4f} \\t\"\n",
    "          f\"test_loss: {test_loss:.4f} \\t test_acc: {test_acc:.4f} \\t training_time: {end-start:.2f}\")"
   ]
  },
  {
   "cell_type": "code",
   "execution_count": 9,
   "metadata": {},
   "outputs": [
    {
     "name": "stdout",
     "output_type": "stream",
     "text": [
      "[0.5904365904365905, 0.7972972972972973, 0.8378378378378378, 0.8471933471933472, 0.8700623700623701, 0.8742203742203742, 0.8908523908523909, 0.9033264033264033, 0.9095634095634095, 0.9085239085239085, 0.896049896049896, 0.896049896049896, 0.9064449064449065, 0.922037422037422, 0.9459459459459459, 0.9386694386694386, 0.9303534303534303, 0.9376299376299376, 0.9542619542619543, 0.946985446985447, 0.9459459459459459, 0.9625779625779626, 0.9667359667359667, 0.9563409563409564, 0.9604989604989606, 0.9719334719334719, 0.9823284823284824, 0.9792099792099792, 0.9656964656964657, 0.9760914760914761, 0.9490644490644491, 0.9501039501039501, 0.9594594594594594, 0.9781704781704782, 0.9802494802494802, 0.9906444906444907, 0.9875259875259875, 0.9896049896049897, 0.9885654885654885, 0.9916839916839917]\n"
     ]
    }
   ],
   "source": [
    "print(train_acc_list)"
   ]
  },
  {
   "cell_type": "code",
   "execution_count": 10,
   "metadata": {},
   "outputs": [
    {
     "data": {
      "image/png": "[encoded data removed]",
      "text/plain": [
       "<Figure size 432x288 with 4 Axes>"
      ]
     },
     "metadata": {
      "needs_background": "light"
     },
     "output_type": "display_data"
    }
   ],
   "source": [
    "import matplotlib.pyplot as plt\n",
    "%matplotlib inline\n",
    "def plot(train_loss_list,label,title, subplot):\n",
    "    ax1 = plt.subplot(subplot)\n",
    "    plt.plot(list(range(len(train_loss_list))),train_loss_list, label=label)\n",
    "    ax1.set_title(title)\n",
    "    ax1.legend()\n",
    "#     plt.title(title)\n",
    "#     plt.legend()\n",
    "#     plt.show()\n",
    "plot(train_loss_list,\"train loss\",\"train loss\", 221)\n",
    "plot(test_loss_list,\"test loss\",\"test loss\", 222)\n",
    "plot(train_acc_list,\"train acc\",\"train acc\", 223)\n",
    "plot(test_acc_list,\"test acc\",\"test acc\", 224)\n",
    "plt.tight_layout()\n",
    "plt.show()"
   ]
  },
  {
   "cell_type": "code",
   "execution_count": 11,
   "metadata": {},
   "outputs": [
    {
     "name": "stdout",
     "output_type": "stream",
     "text": [
      "[1.2871705815196037, 0.5404373221099377, 0.4375697486102581, 0.3713027611374855, 0.34112206660211086, 0.3053721450269222, 0.2938588634133339, 0.26766442134976387, 0.24421825632452965, 0.24362517334520817, 0.2707857470959425, 0.27948467060923576, 0.25214717350900173, 0.21705567836761475, 0.17598190810531378, 0.1733233043923974, 0.1841593375429511, 0.1676081409677863, 0.13651856500655413, 0.1441438589245081, 0.14451556652784348, 0.12074188468977809, 0.0950296651571989, 0.10667760344222188, 0.09522669203579426, 0.06510751275345683, 0.05689240479841828, 0.052997784689068794, 0.08726318296976388, 0.06464753998443484, 0.14869103953242302, 0.13708128174766898, 0.10255737649276853, 0.0659274565987289, 0.04728473839350045, 0.026268013869412243, 0.03866538216243498, 0.029136331169866025, 0.0304975044564344, 0.02509282744722441]\n",
      "[2.6954458157221475, 7.559090614318848, 2.4372878074645996, 0.4744510352611542, 0.49868860840797424, 0.41037572423617047, 0.7871576348940531, 0.4659639398256938, 0.47072064876556396, 0.39803309241930646, 0.43981579939524335, 0.6494256456693014, 0.7190084854761759, 0.4424233039220174, 0.3357935845851898, 0.3750667671362559, 0.43908589084943134, 0.3079911271731059, 0.43506287535031635, 0.696078896522522, 0.3705279628435771, 0.3298095961411794, 0.32889120777448017, 0.34110090136528015, 0.3619772146145503, 0.3217207243045171, 0.43077202637990314, 0.31022554139296216, 0.4231499433517456, 0.44263915220896405, 1.9990291595458984, 0.4977623025576274, 0.33941705028216046, 0.5049541294574738, 0.571135958035787, 0.3758801172176997, 0.4282519519329071, 0.3036195983489354, 0.36009953419367474, 0.2903718153635661]\n",
      "[0.5904365904365905, 0.7972972972972973, 0.8378378378378378, 0.8471933471933472, 0.8700623700623701, 0.8742203742203742, 0.8908523908523909, 0.9033264033264033, 0.9095634095634095, 0.9085239085239085, 0.896049896049896, 0.896049896049896, 0.9064449064449065, 0.922037422037422, 0.9459459459459459, 0.9386694386694386, 0.9303534303534303, 0.9376299376299376, 0.9542619542619543, 0.946985446985447, 0.9459459459459459, 0.9625779625779626, 0.9667359667359667, 0.9563409563409564, 0.9604989604989606, 0.9719334719334719, 0.9823284823284824, 0.9792099792099792, 0.9656964656964657, 0.9760914760914761, 0.9490644490644491, 0.9501039501039501, 0.9594594594594594, 0.9781704781704782, 0.9802494802494802, 0.9906444906444907, 0.9875259875259875, 0.9896049896049897, 0.9885654885654885, 0.9916839916839917]\n",
      "[0.16176470588235295, 0.3088235294117647, 0.4823529411764706, 0.8352941176470589, 0.8176470588235294, 0.8411764705882353, 0.7705882352941177, 0.8352941176470589, 0.8352941176470589, 0.8264705882352941, 0.8470588235294118, 0.7941176470588235, 0.7794117647058824, 0.8588235294117647, 0.8735294117647059, 0.8529411764705882, 0.8411764705882353, 0.9, 0.8647058823529412, 0.8470588235294118, 0.8705882352941177, 0.888235294117647, 0.8970588235294118, 0.8852941176470588, 0.8764705882352941, 0.8941176470588236, 0.8676470588235294, 0.9117647058823529, 0.8823529411764706, 0.8735294117647059, 0.7735294117647059, 0.8588235294117647, 0.8735294117647059, 0.861764705882353, 0.85, 0.8852941176470588, 0.8941176470588236, 0.9088235294117647, 0.8970588235294118, 0.9147058823529411]\n"
     ]
    }
   ],
   "source": [
    "print(train_loss_list)\n",
    "print(test_loss_list)\n",
    "print(train_acc_list)\n",
    "print(test_acc_list)"
   ]
  },
  {
   "cell_type": "code",
   "execution_count": null,
   "metadata": {},
   "outputs": [],
   "source": []
  }
 ],
 "metadata": {
  "kernelspec": {
   "display_name": "Python 3",
   "language": "python",
   "name": "python3"
  },
  "language_info": {
   "codemirror_mode": {
    "name": "ipython",
    "version": 3
   },
   "file_extension": ".py",
   "mimetype": "text/x-python",
   "name": "python",
   "nbconvert_exporter": "python",
   "pygments_lexer": "ipython3",
   "version": "3.7.6"
  }
 },
 "nbformat": 4,
 "nbformat_minor": 4
}